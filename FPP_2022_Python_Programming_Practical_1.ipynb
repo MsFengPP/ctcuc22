{
  "nbformat": 4,
  "nbformat_minor": 0,
  "metadata": {
    "colab": {
      "name": "Pingping Feng - 2022_Python_Programming_Practical_1.ipynb",
      "provenance": [],
      "collapsed_sections": [],
      "include_colab_link": true
    },
    "kernelspec": {
      "name": "python3",
      "display_name": "Python 3"
    }
  },
  "cells": [
    {
      "cell_type": "markdown",
      "metadata": {
        "id": "view-in-github",
        "colab_type": "text"
      },
      "source": [
        "<a href=\"https://colab.research.google.com/github/MsFengPP/ctcuc22/blob/main/FPP_2022_Python_Programming_Practical_1.ipynb\" target=\"_parent\"><img src=\"https://colab.research.google.com/assets/colab-badge.svg\" alt=\"Open In Colab\"/></a>"
      ]
    },
    {
      "cell_type": "markdown",
      "metadata": {
        "id": "jp3BkDml8xiR"
      },
      "source": [
        "# **2022 Python Programming Practical 1**\n",
        "\n",
        "If you do not have one already, create a [GitHub](https://github.com) account.\n",
        "\n",
        "Create a public repository ctcuc22\n",
        "\n",
        "File --> Save a copy in GitHub under this repository\n",
        "\n",
        "For the following questions,\n",
        "\n",
        "*   standard input: keyboard\n",
        "*   standard output: screen\n",
        "\n"
      ]
    },
    {
      "cell_type": "markdown",
      "metadata": {
        "id": "-U8w0oQW9P_b"
      },
      "source": [
        "**Q1. (Converting Fahrenheit to Celsius)**\n",
        "\n",
        "Write a program that reads a Fahrenheit degree as a float from standard input, then converts it to Celsius and displays the result in standard output. The formula for the conversion is:\n",
        "```\n",
        "celsius = (5/9) * (fahrenheit - 32)\n",
        "```"
      ]
    },
    {
      "cell_type": "code",
      "metadata": {
        "id": "D0uTR7B-8qbF",
        "colab": {
          "base_uri": "https://localhost:8080/"
        },
        "outputId": "7ea1bc4a-741f-4db3-b49a-2feff85989e3"
      },
      "source": [
        "T=float(input(\"The temperature in Fahrenheit is \"))\n",
        "C=(5/9)*(T-32)\n",
        "print('The temperature in Celcius is', round(C,1))\n"
      ],
      "execution_count": 19,
      "outputs": [
        {
          "output_type": "stream",
          "name": "stdout",
          "text": [
            "The temperature in Fahrenheit is 99\n",
            "The temperature in Celcius is 37.2\n"
          ]
        }
      ]
    },
    {
      "cell_type": "code",
      "source": [
        ""
      ],
      "metadata": {
        "id": "kXKEreV5tUwh"
      },
      "execution_count": null,
      "outputs": []
    },
    {
      "cell_type": "markdown",
      "metadata": {
        "id": "7Ui5CuS_9Za1"
      },
      "source": [
        "**Q2. (Computing the volume of a cylinder)**\n",
        "\n",
        "Write a program that reads in the radius and length of a cylinder and computes its volume using the formulae:\n",
        "```\n",
        "area = radius * radius * pi\n",
        "volume = area * length\n",
        "```\n",
        "\n",
        "\n"
      ]
    },
    {
      "cell_type": "code",
      "metadata": {
        "id": "CfkRAAWV9cXS",
        "colab": {
          "base_uri": "https://localhost:8080/"
        },
        "outputId": "cd3490ac-4325-4735-df4d-fbabcf7bd8d0"
      },
      "source": [
        "#import math \n",
        "#from math import pi\n",
        "import math\n",
        "R=float(input(\"The radius of the cylinder is \"))\n",
        "H=float(input(\"The length of the cylinder is \"))\n",
        "A=math.pi*R*R\n",
        "V=A*H\n",
        "print('The area of the cylinder is', round(A,1))\n",
        "print('The volume of the cylinder is', round(V,1))\n",
        "from math import pi\n",
        "C=2*pi*R\n",
        "print('C=',round(C,1))"
      ],
      "execution_count": 25,
      "outputs": [
        {
          "output_type": "stream",
          "name": "stdout",
          "text": [
            "The radius of the cylinder is 10\n",
            "The length of the cylinder is 10\n",
            "The area of the cylinder is 314.2\n",
            "The volume of the cylinder is 3141.6\n",
            "C= 62.8\n"
          ]
        }
      ]
    },
    {
      "cell_type": "markdown",
      "source": [
        ""
      ],
      "metadata": {
        "id": "o3UmjMXiz1n1"
      }
    },
    {
      "cell_type": "markdown",
      "metadata": {
        "id": "aVhHiT8w9c7d"
      },
      "source": [
        "**Q3. (Converting miles into kilometers)**\n",
        "\n",
        "Write a program that reads a number in miles, converts it to kilometres, and outputs the result. One mile is 1.60934 kilometres. Display your answer correct to 3 decimal places."
      ]
    },
    {
      "cell_type": "code",
      "metadata": {
        "id": "PwRmweEa9fny",
        "colab": {
          "base_uri": "https://localhost:8080/"
        },
        "outputId": "84c0d6f8-d729-4f28-f997-56e0906adb3f"
      },
      "source": [
        "print('1mile = 1.60934km')\n",
        "X=float(input())\n",
        "KM=1.60934*X\n",
        "print('The distance in km is', round(KM,3))"
      ],
      "execution_count": 65,
      "outputs": [
        {
          "output_type": "stream",
          "name": "stdout",
          "text": [
            "1mile = 1.60934km\n",
            "1609\n",
            "The distance in km is 2589.428\n"
          ]
        }
      ]
    },
    {
      "cell_type": "markdown",
      "metadata": {
        "id": "GwAIqQNY9gFd"
      },
      "source": [
        "**Q4. (Summing the digits in an integer)**\n",
        "\n",
        "Write a program that reads an integer between 0 and 1000 and adds all the digits in the integer. For example, if an integer is 932, the sum of all its digits is 14.\n",
        "\n",
        "Hint: Use the % operator to extract digits, and use the // operator to remove the extracted digit. For instance, 932 % 10 = 2 and 932 // 10 = 93"
      ]
    },
    {
      "cell_type": "code",
      "metadata": {
        "id": "aOozTwoR9j9B",
        "colab": {
          "base_uri": "https://localhost:8080/"
        },
        "outputId": "89baf714-09b5-4e5e-c7b2-f83c5bb36100"
      },
      "source": [
        "A=int(input('An integer between 0 and 1000 is '))\n",
        "B=A % 10\n",
        "\n",
        "A= A // 10\n",
        "C=A % 10\n",
        "\n",
        "A= A // 10\n",
        "D=A % 10\n",
        "\n",
        "A= A // 10\n",
        "E=A % 10\n",
        "\n",
        "\n",
        "sum=B+C+D+E\n",
        "print('sum of digits is', sum)"
      ],
      "execution_count": 40,
      "outputs": [
        {
          "output_type": "stream",
          "name": "stdout",
          "text": [
            "An integer between 0 and 1000 is 1234\n",
            "sum of digits is 10\n"
          ]
        }
      ]
    },
    {
      "cell_type": "code",
      "source": [
        "X=int(input('An integer between 0 and 1000 is '))\n",
        "print((X%10)+(X//10%10)+(X//100%10)+(X//1000))"
      ],
      "metadata": {
        "colab": {
          "base_uri": "https://localhost:8080/"
        },
        "id": "eI_gu_YH376_",
        "outputId": "68d08852-5c85-4875-f387-d205b94336a1"
      },
      "execution_count": 47,
      "outputs": [
        {
          "output_type": "stream",
          "name": "stdout",
          "text": [
            "An integer between 0 and 1000 is 999\n",
            "27\n"
          ]
        }
      ]
    },
    {
      "cell_type": "code",
      "source": [
        "999"
      ],
      "metadata": {
        "id": "qOLLObmb31hJ"
      },
      "execution_count": null,
      "outputs": []
    },
    {
      "cell_type": "markdown",
      "metadata": {
        "id": "lE0ScX9e9kcg"
      },
      "source": [
        "**Q5. (Converting an uppercase letter to lowercase)**\n",
        "\n",
        "Write a program that converts an uppercase letter from standard input to a lowercase letter by making use of its ASCII value.\n",
        "\n",
        "http://www.asciitable.com"
      ]
    },
    {
      "cell_type": "code",
      "metadata": {
        "id": "sE_bxwDs9mf6",
        "outputId": "38a3c0e1-b5fa-4875-b987-fcc66f3f6b5b",
        "colab": {
          "base_uri": "https://localhost:8080/",
          "height": 52
        }
      },
      "source": [
        "upper = input(\"Enter uppercase letter: \")\n",
        "lower = ord(upper) + 32 # ordinal\n",
        "print(chr(lower))"
      ],
      "execution_count": null,
      "outputs": [
        {
          "output_type": "stream",
          "text": [
            "Enter uppercase letter: Y\n",
            "y\n"
          ],
          "name": "stdout"
        }
      ]
    },
    {
      "cell_type": "code",
      "source": [
        "#chr=character\n",
        "upper = input(\"Enter an uppercase letter: \")\n",
        "lower = ord(upper)+32\n",
        "print(chr(lower))"
      ],
      "metadata": {
        "colab": {
          "base_uri": "https://localhost:8080/"
        },
        "id": "L9iGj-u06HKM",
        "outputId": "632b5dcb-8a16-4081-ee94-7715b176a14a"
      },
      "execution_count": 50,
      "outputs": [
        {
          "output_type": "stream",
          "name": "stdout",
          "text": [
            "Enter an uppercase letter: Q\n",
            "q\n"
          ]
        }
      ]
    },
    {
      "cell_type": "markdown",
      "metadata": {
        "id": "KSviQY0T9m7Q"
      },
      "source": [
        "**Q6. (Finding the character of an ASCII code)**\n",
        "\n",
        "Write a program that receives an ASCII value (an integer between 0 and 127) and displays its character. For example, if the user enters 97, the program displays character a.\n",
        "\n",
        "http://www.asciitable.com"
      ]
    },
    {
      "cell_type": "code",
      "metadata": {
        "id": "YbH9Pbul9rK-",
        "colab": {
          "base_uri": "https://localhost:8080/"
        },
        "outputId": "9524cdda-6a47-4c55-ed67-72fd60de548e"
      },
      "source": [
        "number=int(input('an ASCII value '))\n",
        "print(chr(number))"
      ],
      "execution_count": 53,
      "outputs": [
        {
          "output_type": "stream",
          "name": "stdout",
          "text": [
            "an ASCII value 88\n",
            "X\n"
          ]
        }
      ]
    },
    {
      "cell_type": "markdown",
      "metadata": {
        "id": "V9Z95nlg97e4"
      },
      "source": [
        "**Q7. (Payroll)**\n",
        "\n",
        "Write a program that reads in the following information and prints a payroll statement. A sample input and output session is as follows:\n",
        "\n",
        "Sample input:\n",
        "```\n",
        "Enter name: Lim Ah Seng\n",
        "Enter number of hours worked weekly: 10\n",
        "Enter hourly pay rate: 6.75\n",
        "Enter CPF contribution rate(%): 20\n",
        "```\n",
        "\n",
        "Sample output:\n",
        "```\n",
        "Payroll statement for Lim Ah Seng\n",
        "Number of hours worked in week: 10\n",
        "Hourly pay rate: $6.75\n",
        "Gross pay = $67.50\n",
        "CPF contribution at 20% = $13.50\n",
        "Net pay = $54.00\n",
        "```\n",
        "\n"
      ]
    },
    {
      "cell_type": "code",
      "source": [
        "name=input('Enter name: ')\n",
        "Hrs=int(input('Enter number of hours worked weekly: '))\n",
        "rate=float(input('Enter hourly pay rate: $'))\n",
        "cpf=float(input('Enter CPF contribution rate(%): '))\n",
        "\n",
        "gross=(float(Hrs*rate))\n",
        "cpff=float(Hrs*rate*cpf/100)\n",
        "net=gross-cpff\n",
        "\n",
        "print()\n",
        "print('Payroll statement for '+name)\n",
        "print('Number of hours worked in week:',Hrs)\n",
        "print('Hourly pay rate: $'+\"{:.2f}\".format(rate))\n",
        "print('Gross pay = $'+\"{:.2f}\".format(gross))\n",
        "print('CPF contribution at',cpf,'% =',\"{:.2f}\".format(cpff))\n",
        "print('Net pay = $'+\"{:.2f}\".format(net))"
      ],
      "metadata": {
        "colab": {
          "base_uri": "https://localhost:8080/"
        },
        "id": "7ZkxOc5tMv6V",
        "outputId": "ac7dcfaa-a999-4cf7-dbbe-4048986b47dc"
      },
      "execution_count": 97,
      "outputs": [
        {
          "output_type": "stream",
          "name": "stdout",
          "text": [
            "Enter name: ?\n",
            "Enter number of hours worked weekly: 1\n",
            "Enter hourly pay rate: $1\n",
            "Enter CPF contribution rate(%): 10\n",
            "\n",
            "Payroll statement for ?\n",
            "Number of hours worked in week: 1\n",
            "Hourly pay rate: $1.00\n",
            "Gross pay = $1.00\n",
            "CPF contribution at 10.0 % = 0.10\n",
            "Net pay = $0.90\n"
          ]
        }
      ]
    },
    {
      "cell_type": "code",
      "metadata": {
        "id": "1AZvvAW499PK",
        "colab": {
          "base_uri": "https://localhost:8080/"
        },
        "outputId": "c84c4335-d98a-43e0-dc22-8d9b90b92cfe"
      },
      "source": [
        "1name=input('Enter name: ')\n",
        "Hrs=int(input('Enter number of hours worked weekly: '))\n",
        "rate=float(input('Enter hourly pay rate: $'))\n",
        "cpf=float(input('Enter CPF contribution rate(%): '))\n",
        "\n",
        "gross=float(\"{:.2f}\".format(float(Hrs*rate)))\n",
        "cpff=float(\"{:.2f}\".format(float(Hrs*rate*cpf/100)))\n",
        "net=gross-cpff\n",
        "print()\n",
        "print('Payroll statement for '+name)\n",
        "print('Number of hours worked in week:',Hrs)\n",
        "print('Hourly pay rate: $',rate)\n",
        "print('Gross pay = $',gross)\n",
        "print('CPF contribution at',cpf,'% =',cpff)\n",
        "print('Net pay = $',net)\n",
        "\n",
        "#print('{0} pays cpff {:.2f})\n",
        "#concatenate/join 2 strings, remove space, not for values\n",
        "# keep to 2dp: %0.2f or {0:.2f}"
      ],
      "execution_count": 95,
      "outputs": [
        {
          "output_type": "stream",
          "name": "stdout",
          "text": [
            "Enter name: ?\n",
            "Enter number of hours worked weekly: 10\n",
            "Enter hourly pay rate: $10\n",
            "Enter CPF contribution rate(%): 10\n",
            "\n",
            "Payroll statement for ?\n",
            "Number of hours worked in week: 10\n",
            "Hourly pay rate: $ 10.0\n",
            "Gross pay = $ 100.0\n",
            "CPF contribution at 10.0 % = 10.0\n",
            "Net pay = $ 90.0\n"
          ]
        }
      ]
    },
    {
      "cell_type": "code",
      "source": [
        "11"
      ],
      "metadata": {
        "id": "Ln2UMPZkFjua"
      },
      "execution_count": null,
      "outputs": []
    }
  ]
}